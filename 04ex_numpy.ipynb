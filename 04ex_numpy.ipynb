{
 "cells": [
  {
   "cell_type": "markdown",
   "metadata": {},
   "source": [
    "1\\. **Reductions**\n",
    "\n",
    "Find the total mean, and the mean for each row and column of the following matrix:\n",
    "\n",
    "```python\n",
    "m = np.arange(12).reshape((3,4))\n",
    "```"
   ]
  },
  {
   "cell_type": "code",
   "execution_count": 7,
   "metadata": {},
   "outputs": [
    {
     "name": "stdout",
     "output_type": "stream",
     "text": [
      "[[ 0  1  2  3]\n",
      " [ 4  5  6  7]\n",
      " [ 8  9 10 11]]\n",
      "Mean:  5.5\n",
      "ROWS\n",
      "R1 Mean:  1.5\n",
      "R2 Mean:  5.5\n",
      "R3 Mean:  9.5\n",
      "COLUMNS\n",
      "C1 Mean:  4.0\n",
      "C2 Mean:  5.0\n",
      "C3 Mean:  6.0\n",
      "C4 Mean:  7.0\n"
     ]
    }
   ],
   "source": [
    "import numpy as np\n",
    "\n",
    "m = np.arange(12).reshape((3, 4))\n",
    "print(m)\n",
    "print('Mean: ',np.mean(m))\n",
    "row_mean = np.mean(m, axis=1)\n",
    "row1_mean = row_mean[0]\n",
    "print('ROWS')\n",
    "print(\"R1 Mean: \", row1_mean)\n",
    "row2_mean = row_mean[1]\n",
    "print(\"R2 Mean: \", row2_mean)\n",
    "row3_mean = row_mean[2]\n",
    "print(\"R3 Mean: \", row3_mean)\n",
    "\n",
    "print('COLUMNS')\n",
    "column_mean = np.mean(m, axis=0)\n",
    "column1_mean = column_mean[0]\n",
    "print(\"C1 Mean: \", column1_mean)\n",
    "column2_mean = column_mean[1]\n",
    "print(\"C2 Mean: \", column2_mean)\n",
    "column3_mean = column_mean[2]\n",
    "print(\"C3 Mean: \", column3_mean)\n",
    "column4_mean = column_mean[3]\n",
    "print(\"C4 Mean: \", column4_mean)\n"
   ]
  },
  {
   "cell_type": "markdown",
   "metadata": {},
   "source": [
    "2\\. **Outer product**\n",
    "\n",
    "Find the outer product of the following vectors:\n",
    "\n",
    "```python\n",
    "u = np.array([1, 3, 5, 7])\n",
    "v = np.array([2, 4, 6, 8])\n",
    "```\n",
    "\n",
    "Use different methods to do this:\n",
    "\n",
    "   1. Using the function `outer` in numpy\n",
    "   2. Using a nested `for` loop or a list comprehension\n",
    "   3. Using numpy broadcasting operations"
   ]
  },
  {
   "cell_type": "code",
   "execution_count": 5,
   "metadata": {},
   "outputs": [
    {
     "name": "stdout",
     "output_type": "stream",
     "text": [
      "'Product of u and v:\n",
      " [[ 2  4  6  8]\n",
      " [ 6 12 18 24]\n",
      " [10 20 30 40]\n",
      " [14 28 42 56]]\n",
      "Product of u and v:\n",
      " [[ 2  4  6  8]\n",
      " [ 6 12 18 24]\n",
      " [10 20 30 40]\n",
      " [14 28 42 56]]\n"
     ]
    }
   ],
   "source": [
    "import numpy as np\n",
    "\n",
    "u = np.array([1, 3, 5, 7])\n",
    "v = np.array([2, 4, 6, 8])\n",
    "\n",
    "# 1\n",
    "product_1 = np.outer(u, v)\n",
    "print(\"'Product of u and v:\\n \" + str(product_1))\n",
    "\n",
    "\n",
    "# 2\n",
    "def product_2(u, v):\n",
    "    new_matrix = np.zeros((u.shape[0], v.shape[1]))\n",
    "\n",
    "    for i, row in enumerate(u):\n",
    "        for j, col in enumerate(v.T):\n",
    "            dot_product = np.dot(row, col)\n",
    "            new_matrix[i, j] = dot_product\n",
    "    return new_matrix\n",
    "    print('Product of u and v:' + str(product_2(u, v)))\n",
    "\n",
    "\n",
    "# 3\n",
    "product_3 = v[:] * u[:, None]\n",
    "print('Product of u and v:\\n ' + str(product_3))\n"
   ]
  },
  {
   "cell_type": "markdown",
   "metadata": {},
   "source": [
    "3\\. **Matrix masking**\n",
    "\n",
    "Create a 10 by 6 matrix of float random numbers, distributed between 0 and 3 according to a flat distribution.\n",
    "\n",
    "After creating the matrix, set all entries $< 0.3$ to zero using a mask."
   ]
  },
  {
   "cell_type": "code",
   "execution_count": 37,
   "metadata": {},
   "outputs": [
    {
     "name": "stdout",
     "output_type": "stream",
     "text": [
      "[[2.38876607 2.08877177 1.04657606 1.3155844  2.06965644 2.23698672]\n",
      " [2.52296724 0.88044898 2.56201418 0.61292554 0.33500848 2.82300237]\n",
      " [0.07354412 0.82254807 2.70471181 2.48900574 0.67952082 2.58033462]\n",
      " [0.51569956 2.02585527 2.5661226  2.68240788 2.85250714 1.22906578]\n",
      " [2.37583939 2.83856578 1.97810708 1.16854181 0.41982246 1.02557634]\n",
      " [1.81541194 2.87295824 2.99942177 2.54763144 1.53331917 0.78727484]\n",
      " [1.54911867 1.36177391 1.98918663 1.68857175 1.57347172 1.55518594]\n",
      " [0.39707577 0.19341125 2.82623056 2.52458888 0.19714054 1.6417188 ]\n",
      " [2.36329884 2.46347544 2.2961038  0.77343272 2.82023905 1.90852782]\n",
      " [2.52904443 1.78915299 0.31542633 0.63029502 2.70061841 0.97735887]]\n",
      "[[False False False False False False]\n",
      " [False False False False False False]\n",
      " [ True False False False False False]\n",
      " [False False False False False False]\n",
      " [False False False False False False]\n",
      " [False False False False False False]\n",
      " [False False False False False False]\n",
      " [False  True False False  True False]\n",
      " [False False False False False False]\n",
      " [False False False False False False]]\n",
      "\n",
      "Array with 0.3 mask:[0.07354412 0.19341125 0.19714054]\n"
     ]
    }
   ],
   "source": [
    "import numpy as np\n",
    "\n",
    "matrix = np.random.uniform(0, 3, (10, 6))\n",
    "print(matrix)\n",
    "ma = (matrix < 0.3)\n",
    "print(ma)\n",
    "print('')\n",
    "print('Array with 0.3 mask:' + str(matrix[ma]))\n"
   ]
  },
  {
   "cell_type": "markdown",
   "metadata": {},
   "source": [
    "4\\. **Trigonometric functions**\n",
    "\n",
    "Use `np.linspace` to create an array of 100 numbers between $0$ and $2\\pi$ (inclusive).\n",
    "\n",
    "  * Extract every 10th element using the slice notation\n",
    "  * Reverse the array using the slice notation\n",
    "  * Extract elements where the absolute difference between the `sin` and `cos` functions evaluated for that element is $< 0.1$\n",
    "  * **Optional**: make a plot showing the sin and cos functions and indicate where they are close"
   ]
  },
  {
   "cell_type": "code",
   "execution_count": 9,
   "metadata": {},
   "outputs": [
    {
     "name": "stdout",
     "output_type": "stream",
     "text": [
      "[0.         0.06346652 0.12693304 0.19039955 0.25386607 0.31733259\n",
      " 0.38079911 0.44426563 0.50773215 0.57119866 0.63466518 0.6981317\n",
      " 0.76159822 0.82506474 0.88853126 0.95199777 1.01546429 1.07893081\n",
      " 1.14239733 1.20586385 1.26933037 1.33279688 1.3962634  1.45972992\n",
      " 1.52319644 1.58666296 1.65012947 1.71359599 1.77706251 1.84052903\n",
      " 1.90399555 1.96746207 2.03092858 2.0943951  2.15786162 2.22132814\n",
      " 2.28479466 2.34826118 2.41172769 2.47519421 2.53866073 2.60212725\n",
      " 2.66559377 2.72906028 2.7925268  2.85599332 2.91945984 2.98292636\n",
      " 3.04639288 3.10985939 3.17332591 3.23679243 3.30025895 3.36372547\n",
      " 3.42719199 3.4906585  3.55412502 3.61759154 3.68105806 3.74452458\n",
      " 3.8079911  3.87145761 3.93492413 3.99839065 4.06185717 4.12532369\n",
      " 4.1887902  4.25225672 4.31572324 4.37918976 4.44265628 4.5061228\n",
      " 4.56958931 4.63305583 4.69652235 4.75998887 4.82345539 4.88692191\n",
      " 4.95038842 5.01385494 5.07732146 5.14078798 5.2042545  5.26772102\n",
      " 5.33118753 5.39465405 5.45812057 5.52158709 5.58505361 5.64852012\n",
      " 5.71198664 5.77545316 5.83891968 5.9023862  5.96585272 6.02931923\n",
      " 6.09278575 6.15625227 6.21971879 6.28318531]\n",
      "Every 10th element starting from 1: \n",
      "[0.06346652 0.6981317  1.33279688 1.96746207 2.60212725 3.23679243\n",
      " 3.87145761 4.5061228  5.14078798 5.77545316]\n",
      "Reversed array:\n",
      " [6.28318531 6.21971879 6.15625227 6.09278575 6.02931923 5.96585272\n",
      " 5.9023862  5.83891968 5.77545316 5.71198664 5.64852012 5.58505361\n",
      " 5.52158709 5.45812057 5.39465405 5.33118753 5.26772102 5.2042545\n",
      " 5.14078798 5.07732146 5.01385494 4.95038842 4.88692191 4.82345539\n",
      " 4.75998887 4.69652235 4.63305583 4.56958931 4.5061228  4.44265628\n",
      " 4.37918976 4.31572324 4.25225672 4.1887902  4.12532369 4.06185717\n",
      " 3.99839065 3.93492413 3.87145761 3.8079911  3.74452458 3.68105806\n",
      " 3.61759154 3.55412502 3.4906585  3.42719199 3.36372547 3.30025895\n",
      " 3.23679243 3.17332591 3.10985939 3.04639288 2.98292636 2.91945984\n",
      " 2.85599332 2.7925268  2.72906028 2.66559377 2.60212725 2.53866073\n",
      " 2.47519421 2.41172769 2.34826118 2.28479466 2.22132814 2.15786162\n",
      " 2.0943951  2.03092858 1.96746207 1.90399555 1.84052903 1.77706251\n",
      " 1.71359599 1.65012947 1.58666296 1.52319644 1.45972992 1.3962634\n",
      " 1.33279688 1.26933037 1.20586385 1.14239733 1.07893081 1.01546429\n",
      " 0.95199777 0.88853126 0.82506474 0.76159822 0.6981317  0.63466518\n",
      " 0.57119866 0.50773215 0.44426563 0.38079911 0.31733259 0.25386607\n",
      " 0.19039955 0.12693304 0.06346652 0.        ]\n",
      "\n",
      " Elements where the absolute difference between the sin and cos functions is smaller than 0.1:\n",
      " [0.76159822 0.82506474 3.87145761 3.93492413]\n"
     ]
    },
    {
     "data": {
      "image/png": "[encoded data removed]",
      "text/plain": [
       "<Figure size 432x288 with 1 Axes>"
      ]
     },
     "metadata": {
      "needs_background": "light"
     },
     "output_type": "display_data"
    }
   ],
   "source": [
    "import numpy as np\n",
    "from numpy import pi\n",
    "import matplotlib.pyplot as plt\n",
    "\n",
    "x = np.linspace(0, 2 * pi, 100)\n",
    "print(x)\n",
    "print(\"Every 10th element starting from 1: \\n\" + str(x[1:100:10]))\n",
    "print(\"Reversed array:\\n \" + str(x[::-1]))\n",
    "y = np.abs((np.sin(x) - np.cos(x))) < 0.1\n",
    "print(\"\\n Elements where the absolute difference between \"\n",
    "      \"the sin and cos functions is smaller than 0.1:\\n\", x[y])\n",
    "plt.title(\"Plot showing the sin and cos functions and indicate where they are close\")\n",
    "plt.plot(x, np.sin(x), x, np.cos(x))\n",
    "plt.show()"
   ]
  },
  {
   "cell_type": "markdown",
   "metadata": {},
   "source": [
    "5\\. **Matrices**\n",
    "\n",
    "Create a matrix that shows the 10 by 10 multiplication table.\n",
    "\n",
    " * Find the trace of the matrix\n",
    " * Extract the anti-diagonal matrix (this should be ```array([10, 18, 24, 28, 30, 30, 28, 24, 18, 10])```)\n",
    " * Extract the diagonal offset by 1 upwards (this should be ```array([ 2,  6, 12, 20, 30, 42, 56, 72, 90])```)"
   ]
  },
  {
   "cell_type": "code",
   "execution_count": 10,
   "metadata": {},
   "outputs": [
    {
     "name": "stdout",
     "output_type": "stream",
     "text": [
      "[[1, 2, 3, 4, 5, 6, 7, 8, 9]]\n",
      "[[1, 2, 3, 4, 5, 6, 7, 8, 9], [2, 4, 6, 8, 10, 12, 14, 16, 18]]\n",
      "[[1, 2, 3, 4, 5, 6, 7, 8, 9], [2, 4, 6, 8, 10, 12, 14, 16, 18], [3, 6, 9, 12, 15, 18, 21, 24, 27]]\n",
      "[[1, 2, 3, 4, 5, 6, 7, 8, 9], [2, 4, 6, 8, 10, 12, 14, 16, 18], [3, 6, 9, 12, 15, 18, 21, 24, 27], [4, 8, 12, 16, 20, 24, 28, 32, 36]]\n",
      "[[1, 2, 3, 4, 5, 6, 7, 8, 9], [2, 4, 6, 8, 10, 12, 14, 16, 18], [3, 6, 9, 12, 15, 18, 21, 24, 27], [4, 8, 12, 16, 20, 24, 28, 32, 36], [5, 10, 15, 20, 25, 30, 35, 40, 45]]\n",
      "[[1, 2, 3, 4, 5, 6, 7, 8, 9], [2, 4, 6, 8, 10, 12, 14, 16, 18], [3, 6, 9, 12, 15, 18, 21, 24, 27], [4, 8, 12, 16, 20, 24, 28, 32, 36], [5, 10, 15, 20, 25, 30, 35, 40, 45], [6, 12, 18, 24, 30, 36, 42, 48, 54]]\n",
      "[[1, 2, 3, 4, 5, 6, 7, 8, 9], [2, 4, 6, 8, 10, 12, 14, 16, 18], [3, 6, 9, 12, 15, 18, 21, 24, 27], [4, 8, 12, 16, 20, 24, 28, 32, 36], [5, 10, 15, 20, 25, 30, 35, 40, 45], [6, 12, 18, 24, 30, 36, 42, 48, 54], [7, 14, 21, 28, 35, 42, 49, 56, 63]]\n",
      "[[1, 2, 3, 4, 5, 6, 7, 8, 9], [2, 4, 6, 8, 10, 12, 14, 16, 18], [3, 6, 9, 12, 15, 18, 21, 24, 27], [4, 8, 12, 16, 20, 24, 28, 32, 36], [5, 10, 15, 20, 25, 30, 35, 40, 45], [6, 12, 18, 24, 30, 36, 42, 48, 54], [7, 14, 21, 28, 35, 42, 49, 56, 63], [8, 16, 24, 32, 40, 48, 56, 64, 72]]\n",
      "[[1, 2, 3, 4, 5, 6, 7, 8, 9], [2, 4, 6, 8, 10, 12, 14, 16, 18], [3, 6, 9, 12, 15, 18, 21, 24, 27], [4, 8, 12, 16, 20, 24, 28, 32, 36], [5, 10, 15, 20, 25, 30, 35, 40, 45], [6, 12, 18, 24, 30, 36, 42, 48, 54], [7, 14, 21, 28, 35, 42, 49, 56, 63], [8, 16, 24, 32, 40, 48, 56, 64, 72], [9, 18, 27, 36, 45, 54, 63, 72, 81]]\n"
     ]
    }
   ],
   "source": [
    "import numpy as np\n",
    "\n",
    "multp_table = []\n",
    "for y in range(1, 10):\n",
    "    row = []\n",
    "    for x in range(1, 10):\n",
    "        row.append(x * y)\n",
    "    multp_table.append(row)\n",
    "    print(multp_table)"
   ]
  },
  {
   "cell_type": "markdown",
   "metadata": {},
   "source": [
    "6\\. **Broadcasting**\n",
    "\n",
    "Use broadcasting to create a grid of distances.\n",
    "\n",
    "Route 66 crosses the following cities in the US: Chicago, Springfield, Saint-Louis, Tulsa, Oklahoma City, Amarillo, Santa Fe, Albuquerque, Flagstaff, Los Angeles.\n",
    "\n",
    "The corresponding positions in miles are: 0, 198, 303, 736, 871, 1175, 1475, 1544, 1913, 2448\n",
    "\n",
    "  * Build a 2D grid of distances among each city along Route 66\n",
    "  * Convert the distances in km"
   ]
  },
  {
   "cell_type": "code",
   "execution_count": 32,
   "metadata": {},
   "outputs": [
    {
     "name": "stdout",
     "output_type": "stream",
     "text": [
      "2D Grid of Distances:\n",
      " [[   0  198  303  736  871 1175 1475 1544 1913 2448]\n",
      " [ 198    0  105  538  673  977 1277 1346 1715 2250]\n",
      " [ 303  105    0  433  568  872 1172 1241 1610 2145]\n",
      " [ 736  538  433    0  135  439  739  808 1177 1712]\n",
      " [ 871  673  568  135    0  304  604  673 1042 1577]\n",
      " [1175  977  872  439  304    0  300  369  738 1273]\n",
      " [1475 1277 1172  739  604  300    0   69  438  973]\n",
      " [1544 1346 1241  808  673  369   69    0  369  904]\n",
      " [1913 1715 1610 1177 1042  738  438  369    0  535]\n",
      " [2448 2250 2145 1712 1577 1273  973  904  535    0]]\n",
      "\n",
      " 2D Grid of Distance in km: \n",
      " [[   0.          318.65021058  487.63138286 1184.47755045 1401.73905766\n",
      "  1890.97978502 2373.78313439 2484.82790475 3078.67602447 3939.67533084]\n",
      " [ 318.65021058    0.          168.98117228  865.82733987 1083.08884708\n",
      "  1572.32957444 2055.13292381 2166.17769416 2760.02581389 3621.02512026]\n",
      " [ 487.63138286  168.98117228    0.          696.84616759  914.1076748\n",
      "  1403.34840216 1886.15175153 1997.19652188 2591.04464161 3452.04394798]\n",
      " [1184.47755045  865.82733987  696.84616759    0.          217.26150722\n",
      "   706.50223457 1189.30558394 1300.3503543  1894.19847402 2755.19778039]\n",
      " [1401.73905766 1083.08884708  914.1076748   217.26150722    0.\n",
      "   489.24072736  972.04407673 1083.08884708 1676.9369668  2537.93627318]\n",
      " [1890.97978502 1572.32957444 1403.34840216  706.50223457  489.24072736\n",
      "     0.          482.80334937  593.84811972 1187.69623944 2048.69554582]\n",
      " [2373.78313439 2055.13292381 1886.15175153 1189.30558394  972.04407673\n",
      "   482.80334937    0.          111.04477035  704.89289008 1565.89219645]\n",
      " [2484.82790475 2166.17769416 1997.19652188 1300.3503543  1083.08884708\n",
      "   593.84811972  111.04477035    0.          593.84811972 1454.84742609]\n",
      " [3078.67602447 2760.02581389 2591.04464161 1894.19847402 1676.9369668\n",
      "  1187.69623944  704.89289008  593.84811972    0.          860.99930637]\n",
      " [3939.67533084 3621.02512026 3452.04394798 2755.19778039 2537.93627318\n",
      "  2048.69554582 1565.89219645 1454.84742609  860.99930637    0.        ]]\n",
      "\n",
      " This is converted from miles in: \n",
      " [[   0.          318.65011315  487.63123376 1184.47718826 1401.73862905\n",
      "  1890.97920681 2373.78240855 2484.82714495 3078.67508309 3939.67412619]\n",
      " [ 318.65011315    0.          168.98112061  865.82707512 1083.0885159\n",
      "  1572.32909366 2055.1322954  2166.1770318  2760.02496994 3621.02401304]\n",
      " [ 487.63123376  168.98112061    0.          696.84595451  914.10739529\n",
      "  1403.34797305 1886.15117479 1997.19591119 2591.04384933 3452.04289243]\n",
      " [1184.47718826  865.82707512  696.84595451    0.          217.26144078\n",
      "   706.50201854 1189.30522028 1300.34995668 1894.19789482 2755.19693792]\n",
      " [1401.73862905 1083.0885159   914.10739529  217.26144078    0.\n",
      "   489.24057776  972.0437795  1083.0885159  1676.93645404 2537.93549714]\n",
      " [1890.97920681 1572.32909366 1403.34797305  706.50201854  489.24057776\n",
      "     0.          482.80320174  593.84793814 1187.69587628 2048.69491938]\n",
      " [2373.78240855 2055.1322954  1886.15117479 1189.30522028  972.0437795\n",
      "   482.80320174    0.          111.0447364   704.89267454 1565.89171764]\n",
      " [2484.82714495 2166.1770318  1997.19591119 1300.34995668 1083.0885159\n",
      "   593.84793814  111.0447364     0.          593.84793814 1454.84698124]\n",
      " [3078.67508309 2760.02496994 2591.04384933 1894.19789482 1676.93645404\n",
      "  1187.69587628  704.89267454  593.84793814    0.          860.9990431 ]\n",
      " [3939.67412619 3621.02401304 3452.04289243 2755.19693792 2537.93549714\n",
      "  2048.69491938 1565.89171764 1454.84698124  860.9990431     0.        ]]\n"
     ]
    },
    {
     "data": {
      "image/png": "[encoded data removed]",
      "text/plain": [
       "<Figure size 432x288 with 2 Axes>"
      ]
     },
     "metadata": {
      "needs_background": "light"
     },
     "output_type": "display_data"
    }
   ],
   "source": [
    "import numpy as np\n",
    "import matplotlib.pyplot as plt\n",
    "import math\n",
    "\n",
    "miles = np.array([0, 198, 303, 736, 871, 1175, 1475, 1544, 1913, 2448])\n",
    "distance = np.abs(miles - miles[:, np.newaxis])\n",
    "print('2D Grid of Distances:\\n', distance_array)\n",
    "conv_fac = 0.621371\n",
    "print(\"\\n 2D Grid of Distance in km: \\n\", distance / conv_fac)\n",
    "plt.pcolor(distance)\n",
    "plt.colorbar()\n",
    "print(\"\\n This is converted from miles in: \\n\", distance/0.62137119)"
   ]
  },
  {
   "cell_type": "markdown",
   "metadata": {},
   "source": [
    "7\\. **Prime numbers sieve**\n",
    "\n",
    "Compute the prime numbers in the 0-N (start with N=99) range with a sieve (mask).\n",
    "\n",
    "  * Constract a shape (N,) boolean array, which is the mask\n",
    "  * Identify the multiples of each number starting from 2 and set accordingly the corresponding mask element\n",
    "  * Apply the mask to obtain an array of ordered prime numbers\n",
    "  * Check the performances (with `timeit`); how does it scale with N?\n",
    "  * Implement the optimization suggested in the [sieve of Eratosthenes](https://en.wikipedia.org/wiki/Sieve_of_Eratosthenes)"
   ]
  },
  {
   "cell_type": "code",
   "execution_count": 29,
   "metadata": {},
   "outputs": [
    {
     "name": "stdout",
     "output_type": "stream",
     "text": [
      "Enter n: \n",
      "45\n",
      "The prime numbers to 45 :\n",
      "[ 2  3  5  7 11 13 17 19 23 29 31 37 41 43]\n",
      "None\n",
      "0.0007983999967109412\n"
     ]
    }
   ],
   "source": [
    "import timeit\n",
    "import numpy as np\n",
    "\n",
    "def prime(x):\n",
    "    Prime_List = []\n",
    "    for i in range(2, x + 1):\n",
    "        Prime_List.append(i)\n",
    "    for i in range(2, x + 1):\n",
    "        for j in range(2, i):\n",
    "            mask = (i % j == 0)\n",
    "            if mask:\n",
    "                if i in Prime_List:\n",
    "                    Prime_List.remove(i)\n",
    "\n",
    "    arrayofprimes = np.array(Prime_List)\n",
    "    print(arrayofprimes)\n",
    "\n",
    "n = int(input(\"Enter n: \\n\"))\n",
    "print(\"The prime numbers to \"+str(n),':')\n",
    "print(prime(n))\n",
    "print(timeit.timeit('sieve(n)', globals=globals(), number=99))"
   ]
  },
  {
   "cell_type": "markdown",
   "metadata": {},
   "source": [
    "8\\. **Diffusion using random walk**\n",
    "\n",
    "Consider a simple random walk process: at each step in time, a walker jumps right or left (+1 or -1) with equal probability. The goal is to find the typical distance from the origin of many random walkers after a given amount of time.\n",
    "\n",
    "*Hint*: create a 2D array where each row represents a walker, and each column represents a time step.\n",
    "\n",
    "  * Take 1000 walkers and let them walk for 200 steps\n",
    "  * Use `randint` to create a 2D array of size $walkers \\times steps$ with values -1 or 1\n",
    "  * Calculate the walking distances for each walker (e.g. by summing the elements in each row)\n",
    "  * Take the square of the previously-obtained array (element-wise)\n",
    "  * Compute the mean of the squared distances at each step (i.e. the mean along the columns)\n",
    "  * **Optional**: plot the average distances ($\\sqrt(distance^2)$) as a function of time (step)"
   ]
  },
  {
   "cell_type": "code",
   "execution_count": 36,
   "metadata": {},
   "outputs": [
    {
     "name": "stdout",
     "output_type": "stream",
     "text": [
      "[[-1 -1  1 ...  1  1  1]\n",
      " [-1 -1 -1 ...  1 -1  1]\n",
      " [-1 -1  1 ...  1 -1 -1]\n",
      " ...\n",
      " [ 1 -1 -1 ... -1 -1 -1]\n",
      " [ 1 -1  1 ...  1  1  1]\n",
      " [-1  1 -1 ... -1 -1 -1]]\n",
      "\n",
      " [-10  14  18   8   0 -16 -14  26  -4 -16 -18  -4 -10 -10 -20  10   0  24\n",
      "   6 -38  20  12  -2  24 -32  24  22 -34 -24   6  12 -18  -6  -4  10  -4\n",
      " -20 -12   6  18 -18   4   2   4 -14 -18 -14  24  -4 -20 -16 -16  -2  16\n",
      "  26 -20   8 -14   2  16   4   6   4  -6  -6   0 -12   6  26  -4  -4 -10\n",
      "  12   2 -30  12   4   0 -10 -12   6  -2  10  14  20   6 -20 -34  12   2\n",
      "  14 -18  16 -20  14  22   4   6  -4 -12   6  -4   6 -18  14 -16  14  12\n",
      "  -6   0 -14  14 -12   0  -6 -18   0 -20   8 -16  -4  -6 -14  -2  -8  14\n",
      "  -6  -2  14   8   6   0  -2   6  -8  16  22 -14 -16  12 -24 -24   4   8\n",
      " -10  28 -10 -12  14  12  10 -20  -8   0 -22   6  -8  12  -8  -4   6  10\n",
      "  14  22   2  -6   4  -2 -12  16  20   4 -10   4  10  14  -6  12   6   8\n",
      "  -4 -12  12  14  14   6  -2  -4  -4 -14 -14  20   2  -4   4 -16  18  -2\n",
      "   6  34  14   4   4 -28  36 -10  -2  34 -30 -12  12   2  -2   2 -18 -10\n",
      "  18 -16   8   6   2 -24 -32  10   8  18   8   2  14  16   2 -30  -4 -18\n",
      " -18 -12  12  14   4  30 -32   4  -8 -14 -10   8  30   6  12   4   8  20\n",
      "  18   6  14   6   6   0 -12  22  22  16   8  -2   0  16  -2   2   8 -20\n",
      " -20   2 -14   4 -26   8  -2  22  -2  -6  -2   0   4  -4   2  -4 -12 -30\n",
      " -26  10   6   8  14   6 -22  32  28   4   0  24   2 -12  24  -4 -22  24\n",
      " -10 -16   2   2 -12  -2  10   6  -6 -14  12  -8   2  20  -6 -16  -2 -12\n",
      "   2  -4   6 -18 -26  14 -24   4 -28 -22  28   8  -2 -10   4  12 -16  -6\n",
      "   8   4  -8   4 -16 -14   2   4  10  22  12   2 -14   0 -14 -18 -12  18\n",
      "  16  -2   6  24  10  12   4 -26   6  16 -12   4 -16  -8  -4  18 -14  16\n",
      " -18 -26  26 -10   4  -8   8   4   2  10  26 -20  24 -18   8   2  12   6\n",
      "  -4   2  -8   2   2  -6   2  -8  14 -12   0  -2   2  10   0 -22  20  -8\n",
      " -18   8  14 -10 -28 -22  -2   6 -12  -6   2 -16  24 -12 -12  32   4  18\n",
      "  -6   4  16  -8  12  -4   4 -28   6  -8  12  20   2  12  -8  -2  26   4\n",
      "  -4   8 -26   6 -28  -2 -12  22  -6   2 -16  10  -2  14 -28  22   4 -16\n",
      "  50  -4  26  14   4   0  20   2  -4   4  14  12  -6  14  16  10  14  -4\n",
      "  20  -2  12  -6  12 -14 -22  14  -2  -4  12  18  -6  -4  10  20   6  10\n",
      "  20  10  12   8   2 -16  16   8 -22  28 -14  -2  24   8 -12  -2  -4  -4\n",
      "   6  14  -8  -4   4  12  34  18 -16  12 -10  -4  28   2 -14  -2 -26 -16\n",
      "   0 -18   2  -6 -22   6  12  -4  10 -28  12   0  -8  -4  10 -12 -36 -22\n",
      "  16  -2  -4  -8 -28  -4   0   6 -10  -6   2 -30 -10 -26  22 -14  -6  -8\n",
      "   8   2   6  28  16  18  16   2   2   6  16  -4  18   0  10   2   4   4\n",
      "   4  18  -4  -8 -24  10  20   8   8  18  -8 -14  -2   6 -36  -2 -18  -2\n",
      "   4 -20 -16  12 -18 -28   8 -28   8  -2 -24   2  20 -18  22  -8  -6  24\n",
      " -36 -20   6  -6  16  -2   2 -12  14 -12   2   0  -2  -2  24 -22  -4  16\n",
      "  18  -6  -4  10   8 -30  20   8 -16  -2   4   8 -16 -12   6  30   6 -14\n",
      " -18 -12  20  -2  10  16   8   0 -24 -10  18   4  34 -18   0 -10   0  -6\n",
      " -16  -4  -4   0  -8  16  -8   4  -8   0   2  46  10 -12  10  -8  26 -20\n",
      " -14   4  22 -12 -10   2   4  -4   6   6  14 -12   0  -8 -22   0  -8  -8\n",
      "   6 -14   8   4  16 -40  10   0   8 -10  14  14  -8 -14 -14   2   0  38\n",
      "   2   0  -6 -14  -6  28   4 -12  16  12   4 -24 -10  -4 -14  16  12 -16\n",
      "  20  14  22  -6 -18  18   0   8  14   6  12  12 -20  16  -6   0  16  12\n",
      "  26  -8  20   6 -10  22   6 -14  -2  40 -22   8   2   6  -4 -10  22   0\n",
      "  -4  -2 -12   0   6 -18   2  -8  18   2  -6  -2 -34  14  -2  -2   2  -6\n",
      "   2 -10  14 -22  -6   8  -2  -2   2  10   8 -22   0 -18  18  16   0   0\n",
      "  -6   6   2  -2  16  -4 -18   2   2  36  -4 -14  -2   4  -6  12  10  22\n",
      "   8  20  20   0  22  12   6   0  10  -2 -20  -4 -12 -10  10 -12  18  -8\n",
      "  12   4 -26 -28  16  -8  28  16  -8  -8  22  -2 -18  12   4 -18  16   0\n",
      " -20  14   8  10 -14 -12   6  -2  28  12  -8 -10  26  18  14 -20  -2  16\n",
      "   0 -14  -8  -8   4   8  22  -8   4  10 -12 -24 -14  -4 -12  -8  -4 -32\n",
      " -20  20  32 -16  16 -10 -16 -14   0  32 -24   2   4 -26  20  -2  -8  -2\n",
      " -14  16 -14  12 -18  22 -30  -4 -12 -10 -14   6  42  14 -14   2  20 -10\n",
      "  -2  -6 -14   6   6   0 -18 -10  16  -8   0 -14   2  16 -18  28  -2 -14\n",
      "  22 -20  -8  12   0 -14   8  12  18  12   4   2  -8  22  12   2 -24  -6\n",
      "  -8 -18 -26 -12  -2 -14   0   6   2 -38]\n",
      "\n",
      " [ 100  196  324   64    0  256  196  676   16  256  324   16  100  100\n",
      "  400  100    0  576   36 1444  400  144    4  576 1024  576  484 1156\n",
      "  576   36  144  324   36   16  100   16  400  144   36  324  324   16\n",
      "    4   16  196  324  196  576   16  400  256  256    4  256  676  400\n",
      "   64  196    4  256   16   36   16   36   36    0  144   36  676   16\n",
      "   16  100  144    4  900  144   16    0  100  144   36    4  100  196\n",
      "  400   36  400 1156  144    4  196  324  256  400  196  484   16   36\n",
      "   16  144   36   16   36  324  196  256  196  144   36    0  196  196\n",
      "  144    0   36  324    0  400   64  256   16   36  196    4   64  196\n",
      "   36    4  196   64   36    0    4   36   64  256  484  196  256  144\n",
      "  576  576   16   64  100  784  100  144  196  144  100  400   64    0\n",
      "  484   36   64  144   64   16   36  100  196  484    4   36   16    4\n",
      "  144  256  400   16  100   16  100  196   36  144   36   64   16  144\n",
      "  144  196  196   36    4   16   16  196  196  400    4   16   16  256\n",
      "  324    4   36 1156  196   16   16  784 1296  100    4 1156  900  144\n",
      "  144    4    4    4  324  100  324  256   64   36    4  576 1024  100\n",
      "   64  324   64    4  196  256    4  900   16  324  324  144  144  196\n",
      "   16  900 1024   16   64  196  100   64  900   36  144   16   64  400\n",
      "  324   36  196   36   36    0  144  484  484  256   64    4    0  256\n",
      "    4    4   64  400  400    4  196   16  676   64    4  484    4   36\n",
      "    4    0   16   16    4   16  144  900  676  100   36   64  196   36\n",
      "  484 1024  784   16    0  576    4  144  576   16  484  576  100  256\n",
      "    4    4  144    4  100   36   36  196  144   64    4  400   36  256\n",
      "    4  144    4   16   36  324  676  196  576   16  784  484  784   64\n",
      "    4  100   16  144  256   36   64   16   64   16  256  196    4   16\n",
      "  100  484  144    4  196    0  196  324  144  324  256    4   36  576\n",
      "  100  144   16  676   36  256  144   16  256   64   16  324  196  256\n",
      "  324  676  676  100   16   64   64   16    4  100  676  400  576  324\n",
      "   64    4  144   36   16    4   64    4    4   36    4   64  196  144\n",
      "    0    4    4  100    0  484  400   64  324   64  196  100  784  484\n",
      "    4   36  144   36    4  256  576  144  144 1024   16  324   36   16\n",
      "  256   64  144   16   16  784   36   64  144  400    4  144   64    4\n",
      "  676   16   16   64  676   36  784    4  144  484   36    4  256  100\n",
      "    4  196  784  484   16  256 2500   16  676  196   16    0  400    4\n",
      "   16   16  196  144   36  196  256  100  196   16  400    4  144   36\n",
      "  144  196  484  196    4   16  144  324   36   16  100  400   36  100\n",
      "  400  100  144   64    4  256  256   64  484  784  196    4  576   64\n",
      "  144    4   16   16   36  196   64   16   16  144 1156  324  256  144\n",
      "  100   16  784    4  196    4  676  256    0  324    4   36  484   36\n",
      "  144   16  100  784  144    0   64   16  100  144 1296  484  256    4\n",
      "   16   64  784   16    0   36  100   36    4  900  100  676  484  196\n",
      "   36   64   64    4   36  784  256  324  256    4    4   36  256   16\n",
      "  324    0  100    4   16   16   16  324   16   64  576  100  400   64\n",
      "   64  324   64  196    4   36 1296    4  324    4   16  400  256  144\n",
      "  324  784   64  784   64    4  576    4  400  324  484   64   36  576\n",
      " 1296  400   36   36  256    4    4  144  196  144    4    0    4    4\n",
      "  576  484   16  256  324   36   16  100   64  900  400   64  256    4\n",
      "   16   64  256  144   36  900   36  196  324  144  400    4  100  256\n",
      "   64    0  576  100  324   16 1156  324    0  100    0   36  256   16\n",
      "   16    0   64  256   64   16   64    0    4 2116  100  144  100   64\n",
      "  676  400  196   16  484  144  100    4   16   16   36   36  196  144\n",
      "    0   64  484    0   64   64   36  196   64   16  256 1600  100    0\n",
      "   64  100  196  196   64  196  196    4    0 1444    4    0   36  196\n",
      "   36  784   16  144  256  144   16  576  100   16  196  256  144  256\n",
      "  400  196  484   36  324  324    0   64  196   36  144  144  400  256\n",
      "   36    0  256  144  676   64  400   36  100  484   36  196    4 1600\n",
      "  484   64    4   36   16  100  484    0   16    4  144    0   36  324\n",
      "    4   64  324    4   36    4 1156  196    4    4    4   36    4  100\n",
      "  196  484   36   64    4    4    4  100   64  484    0  324  324  256\n",
      "    0    0   36   36    4    4  256   16  324    4    4 1296   16  196\n",
      "    4   16   36  144  100  484   64  400  400    0  484  144   36    0\n",
      "  100    4  400   16  144  100  100  144  324   64  144   16  676  784\n",
      "  256   64  784  256   64   64  484    4  324  144   16  324  256    0\n",
      "  400  196   64  100  196  144   36    4  784  144   64  100  676  324\n",
      "  196  400    4  256    0  196   64   64   16   64  484   64   16  100\n",
      "  144  576  196   16  144   64   16 1024  400  400 1024  256  256  100\n",
      "  256  196    0 1024  576    4   16  676  400    4   64    4  196  256\n",
      "  196  144  324  484  900   16  144  100  196   36 1764  196  196    4\n",
      "  400  100    4   36  196   36   36    0  324  100  256   64    0  196\n",
      "    4  256  324  784    4  196  484  400   64  144    0  196   64  144\n",
      "  324  144   16    4   64  484  144    4  576   36   64  324  676  144\n",
      "    4  196    0   36    4 1444]\n",
      "[100.0, 296.0, 620.0, 684.0, 684.0, 940.0, 1136.0, 1812.0, 1828.0, 2084.0, 2408.0, 2424.0, 2524.0, 2624.0, 3024.0, 3124.0, 3124.0, 3700.0, 3736.0, 5180.0, 5580.0, 5724.0, 5728.0, 6304.0, 7328.0, 7904.0, 8388.0, 9544.0, 10120.0, 10156.0, 10300.0, 10624.0, 10660.0, 10676.0, 10776.0, 10792.0, 11192.0, 11336.0, 11372.0, 11696.0, 12020.0, 12036.0, 12040.0, 12056.0, 12252.0, 12576.0, 12772.0, 13348.0, 13364.0, 13764.0, 14020.0, 14276.0, 14280.0, 14536.0, 15212.0, 15612.0, 15676.0, 15872.0, 15876.0, 16132.0, 16148.0, 16184.0, 16200.0, 16236.0, 16272.0, 16272.0, 16416.0, 16452.0, 17128.0, 17144.0, 17160.0, 17260.0, 17404.0, 17408.0, 18308.0, 18452.0, 18468.0, 18468.0, 18568.0, 18712.0, 18748.0, 18752.0, 18852.0, 19048.0, 19448.0, 19484.0, 19884.0, 21040.0, 21184.0, 21188.0, 21384.0, 21708.0, 21964.0, 22364.0, 22560.0, 23044.0, 23060.0, 23096.0, 23112.0, 23256.0, 23292.0, 23308.0, 23344.0, 23668.0, 23864.0, 24120.0, 24316.0, 24460.0, 24496.0, 24496.0, 24692.0, 24888.0, 25032.0, 25032.0, 25068.0, 25392.0, 25392.0, 25792.0, 25856.0, 26112.0, 26128.0, 26164.0, 26360.0, 26364.0, 26428.0, 26624.0, 26660.0, 26664.0, 26860.0, 26924.0, 26960.0, 26960.0, 26964.0, 27000.0, 27064.0, 27320.0, 27804.0, 28000.0, 28256.0, 28400.0, 28976.0, 29552.0, 29568.0, 29632.0, 29732.0, 30516.0, 30616.0, 30760.0, 30956.0, 31100.0, 31200.0, 31600.0, 31664.0, 31664.0, 32148.0, 32184.0, 32248.0, 32392.0, 32456.0, 32472.0, 32508.0, 32608.0, 32804.0, 33288.0, 33292.0, 33328.0, 33344.0, 33348.0, 33492.0, 33748.0, 34148.0, 34164.0, 34264.0, 34280.0, 34380.0, 34576.0, 34612.0, 34756.0, 34792.0, 34856.0, 34872.0, 35016.0, 35160.0, 35356.0, 35552.0, 35588.0, 35592.0, 35608.0, 35624.0, 35820.0, 36016.0, 36416.0, 36420.0, 36436.0, 36452.0, 36708.0, 37032.0, 37036.0, 37072.0, 38228.0, 38424.0, 38440.0, 38456.0, 39240.0, 40536.0, 40636.0, 40640.0, 41796.0, 42696.0, 42840.0, 42984.0, 42988.0, 42992.0, 42996.0, 43320.0, 43420.0, 43744.0, 44000.0, 44064.0, 44100.0, 44104.0, 44680.0, 45704.0, 45804.0, 45868.0, 46192.0, 46256.0, 46260.0, 46456.0, 46712.0, 46716.0, 47616.0, 47632.0, 47956.0, 48280.0, 48424.0, 48568.0, 48764.0, 48780.0, 49680.0, 50704.0, 50720.0, 50784.0, 50980.0, 51080.0, 51144.0, 52044.0, 52080.0, 52224.0, 52240.0, 52304.0, 52704.0, 53028.0, 53064.0, 53260.0, 53296.0, 53332.0, 53332.0, 53476.0, 53960.0, 54444.0, 54700.0, 54764.0, 54768.0, 54768.0, 55024.0, 55028.0, 55032.0, 55096.0, 55496.0, 55896.0, 55900.0, 56096.0, 56112.0, 56788.0, 56852.0, 56856.0, 57340.0, 57344.0, 57380.0, 57384.0, 57384.0, 57400.0, 57416.0, 57420.0, 57436.0, 57580.0, 58480.0, 59156.0, 59256.0, 59292.0, 59356.0, 59552.0, 59588.0, 60072.0, 61096.0, 61880.0, 61896.0, 61896.0, 62472.0, 62476.0, 62620.0, 63196.0, 63212.0, 63696.0, 64272.0, 64372.0, 64628.0, 64632.0, 64636.0, 64780.0, 64784.0, 64884.0, 64920.0, 64956.0, 65152.0, 65296.0, 65360.0, 65364.0, 65764.0, 65800.0, 66056.0, 66060.0, 66204.0, 66208.0, 66224.0, 66260.0, 66584.0, 67260.0, 67456.0, 68032.0, 68048.0, 68832.0, 69316.0, 70100.0, 70164.0, 70168.0, 70268.0, 70284.0, 70428.0, 70684.0, 70720.0, 70784.0, 70800.0, 70864.0, 70880.0, 71136.0, 71332.0, 71336.0, 71352.0, 71452.0, 71936.0, 72080.0, 72084.0, 72280.0, 72280.0, 72476.0, 72800.0, 72944.0, 73268.0, 73524.0, 73528.0, 73564.0, 74140.0, 74240.0, 74384.0, 74400.0, 75076.0, 75112.0, 75368.0, 75512.0, 75528.0, 75784.0, 75848.0, 75864.0, 76188.0, 76384.0, 76640.0, 76964.0, 77640.0, 78316.0, 78416.0, 78432.0, 78496.0, 78560.0, 78576.0, 78580.0, 78680.0, 79356.0, 79756.0, 80332.0, 80656.0, 80720.0, 80724.0, 80868.0, 80904.0, 80920.0, 80924.0, 80988.0, 80992.0, 80996.0, 81032.0, 81036.0, 81100.0, 81296.0, 81440.0, 81440.0, 81444.0, 81448.0, 81548.0, 81548.0, 82032.0, 82432.0, 82496.0, 82820.0, 82884.0, 83080.0, 83180.0, 83964.0, 84448.0, 84452.0, 84488.0, 84632.0, 84668.0, 84672.0, 84928.0, 85504.0, 85648.0, 85792.0, 86816.0, 86832.0, 87156.0, 87192.0, 87208.0, 87464.0, 87528.0, 87672.0, 87688.0, 87704.0, 88488.0, 88524.0, 88588.0, 88732.0, 89132.0, 89136.0, 89280.0, 89344.0, 89348.0, 90024.0, 90040.0, 90056.0, 90120.0, 90796.0, 90832.0, 91616.0, 91620.0, 91764.0, 92248.0, 92284.0, 92288.0, 92544.0, 92644.0, 92648.0, 92844.0, 93628.0, 94112.0, 94128.0, 94384.0, 96884.0, 96900.0, 97576.0, 97772.0, 97788.0, 97788.0, 98188.0, 98192.0, 98208.0, 98224.0, 98420.0, 98564.0, 98600.0, 98796.0, 99052.0, 99152.0, 99348.0, 99364.0, 99764.0, 99768.0, 99912.0, 99948.0, 100092.0, 100288.0, 100772.0, 100968.0, 100972.0, 100988.0, 101132.0, 101456.0, 101492.0, 101508.0, 101608.0, 102008.0, 102044.0, 102144.0, 102544.0, 102644.0, 102788.0, 102852.0, 102856.0, 103112.0, 103368.0, 103432.0, 103916.0, 104700.0, 104896.0, 104900.0, 105476.0, 105540.0, 105684.0, 105688.0, 105704.0, 105720.0, 105756.0, 105952.0, 106016.0, 106032.0, 106048.0, 106192.0, 107348.0, 107672.0, 107928.0, 108072.0, 108172.0, 108188.0, 108972.0, 108976.0, 109172.0, 109176.0, 109852.0, 110108.0, 110108.0, 110432.0, 110436.0, 110472.0, 110956.0, 110992.0, 111136.0, 111152.0, 111252.0, 112036.0, 112180.0, 112180.0, 112244.0, 112260.0, 112360.0, 112504.0, 113800.0, 114284.0, 114540.0, 114544.0, 114560.0, 114624.0, 115408.0, 115424.0, 115424.0, 115460.0, 115560.0, 115596.0, 115600.0, 116500.0, 116600.0, 117276.0, 117760.0, 117956.0, 117992.0, 118056.0, 118120.0, 118124.0, 118160.0, 118944.0, 119200.0, 119524.0, 119780.0, 119784.0, 119788.0, 119824.0, 120080.0, 120096.0, 120420.0, 120420.0, 120520.0, 120524.0, 120540.0, 120556.0, 120572.0, 120896.0, 120912.0, 120976.0, 121552.0, 121652.0, 122052.0, 122116.0, 122180.0, 122504.0, 122568.0, 122764.0, 122768.0, 122804.0, 124100.0, 124104.0, 124428.0, 124432.0, 124448.0, 124848.0, 125104.0, 125248.0, 125572.0, 126356.0, 126420.0, 127204.0, 127268.0, 127272.0, 127848.0, 127852.0, 128252.0, 128576.0, 129060.0, 129124.0, 129160.0, 129736.0, 131032.0, 131432.0, 131468.0, 131504.0, 131760.0, 131764.0, 131768.0, 131912.0, 132108.0, 132252.0, 132256.0, 132256.0, 132260.0, 132264.0, 132840.0, 133324.0, 133340.0, 133596.0, 133920.0, 133956.0, 133972.0, 134072.0, 134136.0, 135036.0, 135436.0, 135500.0, 135756.0, 135760.0, 135776.0, 135840.0, 136096.0, 136240.0, 136276.0, 137176.0, 137212.0, 137408.0, 137732.0, 137876.0, 138276.0, 138280.0, 138380.0, 138636.0, 138700.0, 138700.0, 139276.0, 139376.0, 139700.0, 139716.0, 140872.0, 141196.0, 141196.0, 141296.0, 141296.0, 141332.0, 141588.0, 141604.0, 141620.0, 141620.0, 141684.0, 141940.0, 142004.0, 142020.0, 142084.0, 142084.0, 142088.0, 144204.0, 144304.0, 144448.0, 144548.0, 144612.0, 145288.0, 145688.0, 145884.0, 145900.0, 146384.0, 146528.0, 146628.0, 146632.0, 146648.0, 146664.0, 146700.0, 146736.0, 146932.0, 147076.0, 147076.0, 147140.0, 147624.0, 147624.0, 147688.0, 147752.0, 147788.0, 147984.0, 148048.0, 148064.0, 148320.0, 149920.0, 150020.0, 150020.0, 150084.0, 150184.0, 150380.0, 150576.0, 150640.0, 150836.0, 151032.0, 151036.0, 151036.0, 152480.0, 152484.0, 152484.0, 152520.0, 152716.0, 152752.0, 153536.0, 153552.0, 153696.0, 153952.0, 154096.0, 154112.0, 154688.0, 154788.0, 154804.0, 155000.0, 155256.0, 155400.0, 155656.0, 156056.0, 156252.0, 156736.0, 156772.0, 157096.0, 157420.0, 157420.0, 157484.0, 157680.0, 157716.0, 157860.0, 158004.0, 158404.0, 158660.0, 158696.0, 158696.0, 158952.0, 159096.0, 159772.0, 159836.0, 160236.0, 160272.0, 160372.0, 160856.0, 160892.0, 161088.0, 161092.0, 162692.0, 163176.0, 163240.0, 163244.0, 163280.0, 163296.0, 163396.0, 163880.0, 163880.0, 163896.0, 163900.0, 164044.0, 164044.0, 164080.0, 164404.0, 164408.0, 164472.0, 164796.0, 164800.0, 164836.0, 164840.0, 165996.0, 166192.0, 166196.0, 166200.0, 166204.0, 166240.0, 166244.0, 166344.0, 166540.0, 167024.0, 167060.0, 167124.0, 167128.0, 167132.0, 167136.0, 167236.0, 167300.0, 167784.0, 167784.0, 168108.0, 168432.0, 168688.0, 168688.0, 168688.0, 168724.0, 168760.0, 168764.0, 168768.0, 169024.0, 169040.0, 169364.0, 169368.0, 169372.0, 170668.0, 170684.0, 170880.0, 170884.0, 170900.0, 170936.0, 171080.0, 171180.0, 171664.0, 171728.0, 172128.0, 172528.0, 172528.0, 173012.0, 173156.0, 173192.0, 173192.0, 173292.0, 173296.0, 173696.0, 173712.0, 173856.0, 173956.0, 174056.0, 174200.0, 174524.0, 174588.0, 174732.0, 174748.0, 175424.0, 176208.0, 176464.0, 176528.0, 177312.0, 177568.0, 177632.0, 177696.0, 178180.0, 178184.0, 178508.0, 178652.0, 178668.0, 178992.0, 179248.0, 179248.0, 179648.0, 179844.0, 179908.0, 180008.0, 180204.0, 180348.0, 180384.0, 180388.0, 181172.0, 181316.0, 181380.0, 181480.0, 182156.0, 182480.0, 182676.0, 183076.0, 183080.0, 183336.0, 183336.0, 183532.0, 183596.0, 183660.0, 183676.0, 183740.0, 184224.0, 184288.0, 184304.0, 184404.0, 184548.0, 185124.0, 185320.0, 185336.0, 185480.0, 185544.0, 185560.0, 186584.0, 186984.0, 187384.0, 188408.0, 188664.0, 188920.0, 189020.0, 189276.0, 189472.0, 189472.0, 190496.0, 191072.0, 191076.0, 191092.0, 191768.0, 192168.0, 192172.0, 192236.0, 192240.0, 192436.0, 192692.0, 192888.0, 193032.0, 193356.0, 193840.0, 194740.0, 194756.0, 194900.0, 195000.0, 195196.0, 195232.0, 196996.0, 197192.0, 197388.0, 197392.0, 197792.0, 197892.0, 197896.0, 197932.0, 198128.0, 198164.0, 198200.0, 198200.0, 198524.0, 198624.0, 198880.0, 198944.0, 198944.0, 199140.0, 199144.0, 199400.0, 199724.0, 200508.0, 200512.0, 200708.0, 201192.0, 201592.0, 201656.0, 201800.0, 201800.0, 201996.0, 202060.0, 202204.0, 202528.0, 202672.0, 202688.0, 202692.0, 202756.0, 203240.0, 203384.0, 203388.0, 203964.0, 204000.0, 204064.0, 204388.0, 205064.0, 205208.0, 205212.0, 205408.0, 205408.0, 205444.0, 205448.0, 206892.0]\n"
     ]
    },
    {
     "data": {
      "image/png": "[encoded data removed]",
      "text/plain": [
       "<Figure size 432x288 with 1 Axes>"
      ]
     },
     "metadata": {
      "needs_background": "light"
     },
     "output_type": "display_data"
    }
   ],
   "source": [
    "import numpy as np\n",
    "import pylab\n",
    "from pylab import *\n",
    "\n",
    "array = 2 * randint(0, 2, size=(1000, 200))-1\n",
    "print(w)\n",
    "walking_distance = array.sum(1)\n",
    "print(\"\\n\", array.sum(1))  \n",
    "walking_distances_square = np.square(walking_distance)\n",
    "print(\"\\n\", walking_distances_square)  \n",
    "mean_distance_square = []\n",
    "mean = 0\n",
    "for i in walking_distances_square:\n",
    "    mean += i\n",
    "    mean_distance_square.append(np.mean(mean))\n",
    "print(mean_distance_square)\n",
    "distances = np.sqrt(walking_distances_square)\n",
    "m = np.arange(0, len(distances))\n",
    "plt.plot(m, distances)\n",
    "plt.show()"
   ]
  },
  {
   "cell_type": "code",
   "execution_count": null,
   "metadata": {},
   "outputs": [],
   "source": []
  }
 ],
 "metadata": {
  "kernelspec": {
   "display_name": "Python 3 (ipykernel)",
   "language": "python",
   "name": "python3"
  },
  "language_info": {
   "codemirror_mode": {
    "name": "ipython",
    "version": 3
   },
   "file_extension": ".py",
   "mimetype": "text/x-python",
   "name": "python",
   "nbconvert_exporter": "python",
   "pygments_lexer": "ipython3",
   "version": "3.9.12"
  }
 },
 "nbformat": 4,
 "nbformat_minor": 2
}
